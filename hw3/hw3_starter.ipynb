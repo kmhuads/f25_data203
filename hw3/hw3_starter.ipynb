{
 "cells": [
  {
   "cell_type": "markdown",
   "id": "0e4b104b-090b-4cec-a005-9acaa6923c1e",
   "metadata": {},
   "source": [
    "# DATA 203/HW3: [YOUR NAME HERE]"
   ]
  },
  {
   "cell_type": "markdown",
   "id": "2c5dc300-cc25-4ccf-aa06-ea1a5e0a1aca",
   "metadata": {
    "tags": []
   },
   "source": [
    "## (30%) Explore a digital humanities dataset in Python and Pandas. \n",
    "\n",
    "\n",
    "* [hw3 starter notebook](./hw3/hw3_starter.ipynb)"
   ]
  },
  {
   "cell_type": "markdown",
   "id": "cbe1f630-e7a4-4811-b160-61c3f19d0ee8",
   "metadata": {},
   "source": [
    "### **&#167; Task:**  **1.1 Learn about the African American Poetry: A Digital Anthology website and research project.**\n",
    "\n",
    "1. Browse the site and summarize the contents in your own words.  Please\n",
    "   keep your summary to under 250 words (in other words, _be brief_ about\n",
    "   what you learned while browsing)."
   ]
  },
  {
   "cell_type": "markdown",
   "id": "12824b04-6466-47bd-9a97-f6beec51166f",
   "metadata": {},
   "source": [
    "**_ANSWER GOES HERE_**"
   ]
  },
  {
   "cell_type": "markdown",
   "id": "10e0283e-5f0a-4aba-a0d1-c5c1bca0553f",
   "metadata": {},
   "source": [
    "2. In late 1944 Dorothy Porter, a librarian from Howard University, \n",
    "   extended and revised a 1916 compilation of books of \n",
    "   poetry by African American authors. Her preface and checklist\n",
    "   titled _North American Negro Poets: A Bibliographical Checklist 1760-1944_\n",
    "   can be seen here:\n",
    "\n",
    "   * [Dorothy Porter, \"North American Negro Poets: A Bibliographical Checklist of Their Writings, 1760-1944\" (1945)](https://scalar.lehigh.edu/african-american-poetry-a-digital-anthology/dorothy-porter-north-american-negro-poets-a-bibliographical-checklist-of-their-writings-1760-194)\n",
    "\n",
    "   Read the preface written by Ms. Porter and respond to her statement:\n",
    "\n",
    "   > It must be mentioned that one of the principal objectives of this bibliography is to afford an index to the relative distribution of books and other published materials of Negro poetry among our libraries and thus indirectly to reflect the richness of American holdings in this sphere. \n",
    "\n",
    "   by answering the question: \n",
    "   \n",
    "   > _Consider the tools available to us in 2025.  How does this new Digital Anthology  help accomplish the original goals set forth in 1944?_ "
   ]
  },
  {
   "cell_type": "markdown",
   "id": "604f5fb5-9513-4976-bc93-eb0f70580c40",
   "metadata": {},
   "source": [
    "**_ANSWER GOES HERE_**"
   ]
  },
  {
   "cell_type": "markdown",
   "id": "6eb67d22-d1de-4fa5-aeb4-4c3123d6939b",
   "metadata": {},
   "source": [
    "3. Explore the research questions presented by the Anthology here (in the number section 2, \n",
    "   there is a bulleted list of questions):\n",
    "\n",
    "   * Dr. Amardeep's preliminary [research questions.](https://scalar.lehigh.edu/african-american-poetry-a-digital-anthology/exploring-datasets-related-to-african-american-poetry)\n",
    "\n",
    "   Answer the question:\n",
    "   \n",
    "   > _Which of these research questions interests you and why?_"
   ]
  },
  {
   "cell_type": "markdown",
   "id": "02bb4601-d65a-47ec-bb3d-12b5c3c48806",
   "metadata": {},
   "source": [
    "**_ANSWER GOES HERE_**"
   ]
  },
  {
   "cell_type": "markdown",
   "id": "8bc341a2-9a76-4129-a845-96fa7e815595",
   "metadata": {},
   "source": [
    "### **&#167; Task:**  **1.2 Load and explore the primary dataset from the Digital Anthology.**\n",
    "\n",
    "You will find the primary dataset for the Anthology here:\n",
    "\n",
    "* [African American Periodical Poetry (1900-1928)](https://scalar.lehigh.edu/african-american-poetry-a-digital-anthology/external?link=https%3A%2F%2Fmelaniewalsh.github.io%2Fresponsible-datasets-in-context%2Fposts%2Fafrican-american-periodical-poetry%2Faa-periodical-poetry.html&prev=https%3A%2F%2Fscalar.lehigh.edu%2Fafrican-american-poetry-a-digital-anthology%2Fexploring-datasets-related-to-african-american-poetry) at Responsible Datasets\n",
    "\n",
    "Use Pandas to perform the following in your Jupyter notebook:\n",
    "\n",
    "1. Load the dataset from the raw data URL on the page using only `pandas.read_csv()`."
   ]
  },
  {
   "cell_type": "code",
   "execution_count": 1,
   "id": "2a0b8ed9-5f62-4107-a1b1-fd0a5de3af61",
   "metadata": {},
   "outputs": [],
   "source": [
    "## PYTHON ANSWER HERE"
   ]
  },
  {
   "cell_type": "markdown",
   "id": "f8f40390-1537-4038-9e1b-b33de97c849d",
   "metadata": {},
   "source": [
    "2. Give the number of rows and columns in the dataset."
   ]
  },
  {
   "cell_type": "code",
   "execution_count": 2,
   "id": "a37879ca-6769-42b6-a8ce-5bdf4166c8b8",
   "metadata": {},
   "outputs": [],
   "source": [
    "## PYTHON ANSWER HERE"
   ]
  },
  {
   "cell_type": "markdown",
   "id": "8726ac35-bdf9-412c-9b0e-ac9b669790bf",
   "metadata": {},
   "source": [
    "3. Learn how to use [`DataFrame.value_counts()`](https://pandas.pydata.org/pandas-docs/stable/reference/api/pandas.DataFrame.value_counts.html) \n",
    "   and report the counts of the number of works from 1900-1928."
   ]
  },
  {
   "cell_type": "code",
   "execution_count": 3,
   "id": "e4fd211f-d3e9-4c4b-b4a0-a86a2c9ba28c",
   "metadata": {},
   "outputs": [],
   "source": [
    "## PYTHON ANSWER HERE"
   ]
  },
  {
   "cell_type": "markdown",
   "id": "c827ca41-7cee-4da7-beca-8d08f30fc9d6",
   "metadata": {},
   "source": [
    "4. Use `value_counts()` to report the number of `Magazine Type` publications which \n",
    "   were `Predom. Black`. "
   ]
  },
  {
   "cell_type": "code",
   "execution_count": 4,
   "id": "b4ed22f8-d695-4cbc-8a6d-7baac0f3d2ef",
   "metadata": {},
   "outputs": [],
   "source": [
    "## PYTHON ANSWER HERE"
   ]
  },
  {
   "cell_type": "markdown",
   "id": "06639094-5ae6-4b0d-bcda-e48496ba0da7",
   "metadata": {},
   "source": [
    "5. Provide the percent of total `Magazine Type` which are `Predom. Black` (you'll need to \n",
    "   sum all `Magazine Type` and use that to find the ratio or percent)."
   ]
  },
  {
   "cell_type": "code",
   "execution_count": 5,
   "id": "737bec45-2e07-4d35-bca9-a02549d0d65b",
   "metadata": {},
   "outputs": [],
   "source": [
    "## PYTHON ANSWER HERE"
   ]
  },
  {
   "cell_type": "markdown",
   "id": "325daaa8-6491-45f3-b1f7-2e7a568ee256",
   "metadata": {},
   "source": [
    "## (50%) Develop statistical summaries of the data. \n",
    "\n",
    "\n",
    "We will extend the work we started in the first part and continue \n",
    "to explore the data."
   ]
  },
  {
   "cell_type": "markdown",
   "id": "a734789c-d595-4cb2-8bc5-d56741c8829e",
   "metadata": {},
   "source": [
    "### **&#167; Task:**  **2.1 Provide a table which shows the percent of publications by year.**\n",
    "\n",
    "* You will need to get all the counts of publications by year (use the `year` column)\n",
    "   and divide all counts by the total number of publications."
   ]
  },
  {
   "cell_type": "code",
   "execution_count": 6,
   "id": "4fe5255b-feee-4923-9590-8721c5861f05",
   "metadata": {},
   "outputs": [],
   "source": [
    "## PYTHON ANSWER HERE"
   ]
  },
  {
   "cell_type": "markdown",
   "id": "36a0180d-a1b5-4873-a7af-acbee8193f3e",
   "metadata": {},
   "source": [
    "### **&#167; Task:**  **2.2 Use the provided function `get_monthly_pub_counts()` to create the Series for 1904, 1905 and 1906.**\n",
    "\n",
    " * You can just run `get_monthly_pub_counts()` on the three years in separate cells."
   ]
  },
  {
   "cell_type": "code",
   "execution_count": 7,
   "id": "ee1d5f7a-1a13-46e1-adec-2153870a4c0e",
   "metadata": {},
   "outputs": [],
   "source": [
    "# USE THIS FUNCTION FOR THE NEXT TWO TASKS\n",
    "\n",
    "def get_monthly_pub_counts(y, df):\n",
    "    months = [\n",
    "        'January', 'February', 'March', \n",
    "        'April', 'May', 'June',\n",
    "        'July', 'August', 'September',\n",
    "        'October', 'November', 'December', \n",
    "    ]\n",
    "\n",
    "    df_months = pd.DataFrame(None, columns=months)\n",
    "    df_year   = pd.DataFrame(df.groupby(['year', 'month']).count()['title'].rename(y).loc[y]).T\n",
    "\n",
    "    return df_months.combine_first(df_year).reindex(columns=months).fillna(0)"
   ]
  },
  {
   "cell_type": "code",
   "execution_count": 8,
   "id": "2cd259ac-6d98-422a-84c0-ffe8447a61df",
   "metadata": {},
   "outputs": [],
   "source": [
    "## PYTHON ANSWER HERE"
   ]
  },
  {
   "cell_type": "markdown",
   "id": "d1a870bd-ff51-4b6a-ac1b-f2450aadce4c",
   "metadata": {},
   "source": [
    "### **&#167; Task:  2.3 Continue using `get_monthly_pub_counts()` to produce a new DataFrame with counts for ALL years, 1900-1928.**\n",
    "\n",
    "The new DataFrame will have the year as the index and the ordered months as the \n",
    "columns.  Each value in the DataFrame will include the counts for that year and month. \n",
    "\n",
    "Your final DataFrame will look something like:\n",
    "\n",
    "|      |   January |   February |  ...  |     November |   December |\n",
    "|-----:|----------:|-----------:|------:|-------------:|-----------:|\n",
    "| 1900 |         0 |          0 |   ... |            1 |          2 |\n",
    "| ...  | ...  | ...  | ...  | ...  | ...  |\n",
    "| 1929 |         2 |          5 |   ... |            3 |          9 |"
   ]
  },
  {
   "cell_type": "code",
   "execution_count": 9,
   "id": "e64b1b30-6178-498d-be53-bf2480cf1f5a",
   "metadata": {},
   "outputs": [],
   "source": [
    "## PYTHON ANSWER HERE"
   ]
  },
  {
   "cell_type": "markdown",
   "id": "861a61db-4055-4989-a79c-3fa0d7bd804c",
   "metadata": {},
   "source": [
    "## (20%) Build a Seaborn heatmap for the monthly publication counts for all years. \n",
    "\n",
    "We learned in lecture that \n",
    "visualizing data makes everything\n",
    "better -- most of us and our peers\n",
    "do not want to see thousands of \n",
    "data points in a table, they want\n",
    "to have a picture of that data.\n",
    "\n",
    "We are going to use a library\n",
    "called [Seaborn]() to make a \n",
    "heatmap of the data table you\n",
    "produced in the previous section."
   ]
  },
  {
   "cell_type": "markdown",
   "id": "90c63ee0-9766-4c1e-becf-126cdd2cda50",
   "metadata": {},
   "source": [
    "### **&#167; Task:**  **3.1 Build a heatmap of all the publication counts from 1900-1928.**\n",
    "\n",
    "Study the documentation for Seaborn heat maps here:\n",
    "\n",
    "* [`seaborn.heatmap`](https://seaborn.pydata.org/generated/seaborn.heatmap.html)\n",
    "\n",
    "Don't over think this, you will not need to do much work\n",
    "to make the heatmap.  If you have more than 2 lines\n",
    "of code, you are on the wrong track.  You can do it in 1 \n",
    "line of code once you have the complete DataFrame \n",
    "from the previous part."
   ]
  },
  {
   "cell_type": "code",
   "execution_count": 10,
   "id": "cb3484ba-8298-4c5a-b0fd-ecb1a932844f",
   "metadata": {},
   "outputs": [],
   "source": [
    "## PYTHON ANSWER HERE"
   ]
  },
  {
   "cell_type": "markdown",
   "id": "6100687b-99c1-4f14-8b99-707513662488",
   "metadata": {},
   "source": [
    "### **&#167; Task: 3.2 Please look at the heatmap and make 3 observations about what you see.**\n",
    "\n",
    "You may include observations about the \n",
    "months and years which are most frequent, trends, data gaps, etc."
   ]
  },
  {
   "cell_type": "markdown",
   "id": "61c0ac15-0e20-4cf4-aae6-da9ed101bd85",
   "metadata": {},
   "source": [
    "**_ANSWER GOES HERE_**"
   ]
  },
  {
   "cell_type": "code",
   "execution_count": null,
   "id": "a384a932-d562-4504-9c5b-71e39a79baf1",
   "metadata": {},
   "outputs": [],
   "source": []
  }
 ],
 "metadata": {
  "kernelspec": {
   "display_name": "Python 3 (ipykernel)",
   "language": "python",
   "name": "python3"
  },
  "language_info": {
   "codemirror_mode": {
    "name": "ipython",
    "version": 3
   },
   "file_extension": ".py",
   "mimetype": "text/x-python",
   "name": "python",
   "nbconvert_exporter": "python",
   "pygments_lexer": "ipython3",
   "version": "3.12.6"
  }
 },
 "nbformat": 4,
 "nbformat_minor": 5
}
